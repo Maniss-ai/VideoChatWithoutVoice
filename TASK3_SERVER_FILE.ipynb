{
 "cells": [
  {
   "cell_type": "code",
   "execution_count": null,
   "metadata": {},
   "outputs": [
    {
     "name": "stdout",
     "output_type": "stream",
     "text": [
      "HOST IP:  \n",
      "\t\t\t \n",
      "================================ \n",
      "Socket Created\n",
      "\t\t\t \n",
      "================================ \n",
      "Socket Bind Successtully\n",
      " \t\t\t \n",
      "==========================\n",
      "LISTENING AT:  ('', 9999)\n",
      "\t\t\t \n",
      "================================ \n",
      "Socket Accepted: \n",
      "\t\t\t \n",
      "================================ \n",
      "GOT CONNECTION FROM:  ('192.168.56.1', 64712)\n"
     ]
    }
   ],
   "source": [
    "import socket, cv2, pickle, struct\n",
    "\n",
    "server_socket = socket.socket(socket.AF_INET, socket.SOCK_STREAM)\n",
    "server_socket.setsockopt(socket.SOL_SOCKET, socket.SO_REUSEADDR, 1)\n",
    "# host_name = socket.gethostname()\n",
    "host_ip = \"\"\n",
    "\n",
    "print(\"HOST IP: \", host_ip)\n",
    "print(\"\\t\\t\\t \\n================================ \")\n",
    "      \n",
    "port  = 9999\n",
    "socket_address = (host_ip, port)\n",
    "print(\"Socket Created\")\n",
    "print(\"\\t\\t\\t \\n================================ \")\n",
    "\n",
    "\n",
    "server_socket.bind(socket_address)\n",
    "print(\"Socket Bind Successtully\")\n",
    "print(\" \\t\\t\\t \\n==========================\")\n",
    "\n",
    "server_socket.listen(5)\n",
    "print(\"LISTENING AT: \", socket_address)\n",
    "print(\"\\t\\t\\t \\n================================ \")\n",
    "\n",
    "print(\"Socket Accepted: \")\n",
    "print(\"\\t\\t\\t \\n================================ \")\n",
    "\n",
    "\n",
    "while True:\n",
    "    client_socket, addr = server_socket.accept()\n",
    "    print(\"GOT CONNECTION FROM: \", addr)\n",
    "    if client_socket:\n",
    "        vid = cv2.VideoCapture(0)\n",
    "        while(vid.isOpened()):\n",
    "            ret, img = vid.read()\n",
    "            a = pickle.dumps(img)\n",
    "#             print(a)\n",
    "            message = struct.pack(\"Q\",len(a))+a\n",
    "#             print(message)\n",
    "            \n",
    "            client_socket.sendall(message)\n",
    "            cv2.imshow(\"TRANSMITTING VIDEO\", img) \n",
    "            if cv2.waitKey(1) == 13:\n",
    "                client_socket.close()\n",
    "                break"
   ]
  },
  {
   "cell_type": "code",
   "execution_count": null,
   "metadata": {},
   "outputs": [],
   "source": []
  }
 ],
 "metadata": {
  "kernelspec": {
   "display_name": "Python 3",
   "language": "python",
   "name": "python3"
  },
  "language_info": {
   "codemirror_mode": {
    "name": "ipython",
    "version": 3
   },
   "file_extension": ".py",
   "mimetype": "text/x-python",
   "name": "python",
   "nbconvert_exporter": "python",
   "pygments_lexer": "ipython3",
   "version": "3.8.3"
  }
 },
 "nbformat": 4,
 "nbformat_minor": 4
}
